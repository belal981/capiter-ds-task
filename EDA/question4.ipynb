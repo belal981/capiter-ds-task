{
 "cells": [
  {
   "cell_type": "markdown",
   "metadata": {
    "id": "zZ3U45xugQST"
   },
   "source": [
    "#### Installs"
   ]
  },
  {
   "cell_type": "code",
   "execution_count": null,
   "metadata": {
    "id": "85bwEMXDgRfO"
   },
   "outputs": [],
   "source": [
    "%%capture\n",
    "!pip install pandas-profiling\n",
    "!pip install arabic-reshaper\n",
    "!pip install python-bidi\n",
    "!pip install folium"
   ]
  },
  {
   "cell_type": "markdown",
   "metadata": {
    "id": "O1PM5YFeBnIa"
   },
   "source": [
    "#### Imports"
   ]
  },
  {
   "cell_type": "code",
   "execution_count": null,
   "metadata": {
    "id": "iYjm6uu_BfhH"
   },
   "outputs": [],
   "source": [
    "import warnings\n",
    "import pandas as pd\n",
    "import numpy as np\n",
    "import seaborn as sns\n",
    "import matplotlib.pyplot as plt\n",
    "from scipy.spatial.distance import cdist\n",
    "from pandas_profiling import ProfileReport\n",
    "import folium  # gelocation plotting\n",
    "from scipy import stats\n",
    "from folium.plugins import MarkerCluster\n",
    "import arabic_reshaper  # arabic plotting\n",
    "from bidi.algorithm import get_display  # arabic encoding\n",
    "from sklearn.cluster import KMeans  # clustering\n",
    "from sklearn import preprocessing"
   ]
  },
  {
   "cell_type": "markdown",
   "metadata": {},
   "source": [
    "#### Conf"
   ]
  },
  {
   "cell_type": "code",
   "execution_count": null,
   "metadata": {},
   "outputs": [],
   "source": [
    "sns.set(rc={\"figure.figsize\": (11.7, 8.27)})\n",
    "sns.set_style(\"whitegrid\")\n",
    "colors = sns.color_palette(\"pastel\")[0:5]\n",
    "warnings.filterwarnings(\"ignore\")"
   ]
  },
  {
   "cell_type": "markdown",
   "metadata": {
    "id": "djsZKZuLBs6y"
   },
   "source": [
    "#### Data Loading"
   ]
  },
  {
   "cell_type": "code",
   "execution_count": null,
   "metadata": {
    "id": "znsYGkVrBp9s"
   },
   "outputs": [],
   "source": [
    "datasets = [\"customers.csv\", \"trucks.csv\", \"orders.csv\", \"items.csv\"]\n",
    "base_dir = \"datasets/\"\n",
    "\n",
    "customers_df = pd.read_csv(f\"{base_dir}{datasets[0]}\")\n",
    "trucks_df = pd.read_csv(f\"{base_dir}{datasets[1]}\")\n",
    "orders_df = pd.read_csv(f\"{base_dir}{datasets[2]}\")\n",
    "items_df = pd.read_csv(f\"{base_dir}{datasets[3]}\")"
   ]
  },
  {
   "cell_type": "markdown",
   "metadata": {},
   "source": [
    "#### Data Transformation"
   ]
  },
  {
   "cell_type": "code",
   "execution_count": null,
   "metadata": {},
   "outputs": [],
   "source": [
    "# cast to datetime\n",
    "customers_df[\"registration_date\"] = pd.to_datetime(customers_df[\"registration_date\"])\n",
    "customers_df[\"last_order_date\"] = pd.to_datetime(customers_df[\"last_order_date\"])\n",
    "orders_df[\"Order_date\"] = pd.to_datetime(orders_df[\"Order_date\"])"
   ]
  },
  {
   "cell_type": "markdown",
   "metadata": {},
   "source": [
    "### EDA"
   ]
  },
  {
   "cell_type": "markdown",
   "metadata": {},
   "source": [
    "#### Customers Data"
   ]
  },
  {
   "cell_type": "code",
   "execution_count": null,
   "metadata": {
    "colab": {
     "base_uri": "https://localhost:8080/",
     "height": 488
    },
    "id": "qG0P_wVXCSxj",
    "outputId": "a04b3cc7-04ab-4fea-a465-e1862548f002",
    "scrolled": true
   },
   "outputs": [],
   "source": [
    "ProfileReport(customers_df, title=\"Customers Profiling\")\n",
    "# profile.to_file(\"customers_report.html\") #save report"
   ]
  },
  {
   "cell_type": "markdown",
   "metadata": {},
   "source": [
    "From the above report, we can conclude:\n",
    "- Customers data covers registered 9810 user in a year and 2 months **(12-12-2019 to 04-01-2021)**\n",
    "- User registration peak was on June 2020 (3500)\n",
    "- Customers activity peak was on Feburary and March 2021, maybe due to campaigns/items seasonality\n",
    "- Customer inactivity peak was in November and early January 2021\n",
    "- `Others` imputation is highly used in `Arabic Area Name` (~11%), which can be treated by geo-approximation to find nearest areas\n",
    "\n",
    "- There's slight positive correlation between `Canceled Transactions` and `Average Ticket Size`\n",
    "\n",
    "- The nullity correlation states that the abscence of any purchasing feature (seetting an order, cancelling an order, average order size, etc..) affects the other features. \n",
    "\n",
    "- An inactive customer is someone with Nullified `Number of Transactions`"
   ]
  },
  {
   "cell_type": "code",
   "execution_count": null,
   "metadata": {},
   "outputs": [],
   "source": [
    "cairo = [\"30.0444\", \"31.2357\"]\n",
    "customers_map = folium.Map(cairo, zoom_start=8)\n",
    "marker_cluster = MarkerCluster().add_to(customers_map)\n",
    "\n",
    "loc = (\n",
    "    customers_df[[\"buyer_business_type\", \"geo_latitude\", \"geo_longitude\"]]\n",
    "    .dropna()\n",
    "    .reset_index()\n",
    ")\n",
    "for i in range(len(loc)):\n",
    "    folium.Marker(\n",
    "        [loc[\"geo_latitude\"][i], loc[\"geo_longitude\"][i]],\n",
    "        popup=\"<i>Customer {0},{1}</i>\".format(\n",
    "            loc[\"geo_latitude\"][i], loc[\"geo_longitude\"][i]\n",
    "        ),\n",
    "        tooltip=loc[\"buyer_business_type\"][i],\n",
    "    ).add_to(marker_cluster)\n",
    "\n",
    "customers_map"
   ]
  },
  {
   "cell_type": "markdown",
   "metadata": {},
   "source": [
    "- The Map shows lack of coverage in active economic areas, such as New Cairo, Zayed, and 6th October\n",
    "- There's messy points in geolocation, like there's a customer in Libya and another in Europe"
   ]
  },
  {
   "cell_type": "code",
   "execution_count": null,
   "metadata": {},
   "outputs": [],
   "source": [
    "registration_dates = customers_df[\"registration_date\"].astype(str).str.rstrip()\n",
    "date_counts = registration_dates.value_counts().sort_index()\n",
    "\n",
    "step = 7\n",
    "ax = sns.lineplot(x=date_counts.index[::step], y=date_counts.values[::step])\n",
    "xticks = pd.Series(date_counts.index[::step])\n",
    "ax.set_xticklabels(xticks, rotation=45)\n",
    "\n",
    "ax.set_title(\"Registration Dates\", fontsize=18)\n",
    "ax.set_xlabel(\"Date\", fontsize=15)\n",
    "ax.set_ylabel(\"Count\", fontsize=15)\n",
    "plt.show()"
   ]
  },
  {
   "cell_type": "markdown",
   "metadata": {},
   "source": [
    "- Registeration dates spiked in May and June 2020, Which is either a result by first-day promo or seasonality correlation\n",
    "- Registeration rate has been decreased dramiltically in the rest of Summer till End of November\n",
    "- The data team should invistigate such correlation extensively to mimic the same behavior, thus attracting new customers"
   ]
  },
  {
   "cell_type": "markdown",
   "metadata": {},
   "source": [
    "#### Orders Data"
   ]
  },
  {
   "cell_type": "code",
   "execution_count": null,
   "metadata": {},
   "outputs": [],
   "source": [
    "orders_df[\"order_date_str\"] = orders_df[\"Order_date\"].astype(str).str.rstrip()\n",
    "ax = sns.countplot(\n",
    "    x=orders_df[\"order_date_str\"],\n",
    "    data=orders_df,\n",
    "    order=orders_df[\"order_date_str\"].value_counts().index,\n",
    ")\n",
    "ax.set_title(\"Order Dates Frequency\", fontsize=18)\n",
    "ax.set_xlabel(\"Order Date\", fontsize=15)\n",
    "ax.set_ylabel(\"Count\", fontsize=15)\n",
    "plt.tight_layout()"
   ]
  },
  {
   "cell_type": "markdown",
   "metadata": {},
   "source": [
    "- Orders huge spike on the 22th Of September 2020\n",
    "- Due to orders limitation, no real insights could be drawn from last figure"
   ]
  },
  {
   "cell_type": "code",
   "execution_count": null,
   "metadata": {},
   "outputs": [],
   "source": [
    "customers_orders_df = pd.merge(customers_df, orders_df, on=\"customer_id\")"
   ]
  },
  {
   "cell_type": "code",
   "execution_count": null,
   "metadata": {
    "scrolled": false
   },
   "outputs": [],
   "source": [
    "valid_orders_dates = (\n",
    "    customers_orders_df[\"Order_date\"] > customers_orders_df[\"registration_date\"]\n",
    ")\n",
    "\n",
    "ax = plt.pie(\n",
    "    valid_orders_dates.value_counts(),\n",
    "    labels=valid_orders_dates.value_counts().index,\n",
    "    autopct=\"%.0f%%\",\n",
    "    colors=colors,\n",
    ")\n",
    "plt.title(\"Valid Order Dates\", fontsize=18)"
   ]
  },
  {
   "cell_type": "markdown",
   "metadata": {},
   "source": [
    "Order Date Validation methodology is calculated as the following: \n",
    "- If the order precedes the customer's registration date, the order is considered `Invalid`\n",
    "- Else, the order is considered `Valid`"
   ]
  },
  {
   "cell_type": "code",
   "execution_count": null,
   "metadata": {},
   "outputs": [],
   "source": [
    "customers_orders_df = customers_orders_df.replace(\n",
    "    {\"شبرا الخيمة\": \"شبرا الخيمه\"}\n",
    ")  # area name unification"
   ]
  },
  {
   "cell_type": "code",
   "execution_count": null,
   "metadata": {},
   "outputs": [],
   "source": [
    "# arabic characters encoding and correction\n",
    "districts_orders_amount = customers_orders_df.groupby(\"district_name_ar\").sum()[\n",
    "    \"total_orders_amount\"\n",
    "]\n",
    "district_orders_amount_corrected = {\n",
    "    get_display(arabic_reshaper.reshape(k)): v\n",
    "    for k, v in districts_orders_amount.to_dict().items()\n",
    "}\n",
    "districts_orders_amount_df = pd.DataFrame(\n",
    "    district_orders_amount_corrected.items(), columns=[\"area\", \"order_amount\"]\n",
    ")"
   ]
  },
  {
   "cell_type": "code",
   "execution_count": null,
   "metadata": {
    "scrolled": true
   },
   "outputs": [],
   "source": [
    "ax = sns.barplot(\n",
    "    x=\"area\",\n",
    "    y=\"order_amount\",\n",
    "    data=districts_orders_amount_df,\n",
    "    order=districts_orders_amount_df.sort_values(\"order_amount\", ascending=False).area,\n",
    ")  # sort areas by order amount\n",
    "\n",
    "xticks = districts_orders_amount_df.area.values\n",
    "ax.set_xticks(range(0, len(xticks)))  # set ticks positions\n",
    "ax.set_xticklabels(xticks, rotation=45)  # set ticks labels (areas names)\n",
    "\n",
    "ax.set_title(\"Areas vs Order Amounts (to the million)\", fontsize=18)\n",
    "ax.set_xlabel(\"Area\", fontsize=15)\n",
    "ax.set_ylabel(\"Order Amount\", fontsize=15)\n",
    "plt.show()"
   ]
  },
  {
   "cell_type": "markdown",
   "metadata": {},
   "source": [
    "- The above figure shows orders size by area $ x10^{6} $ \n",
    "- The first 4 districts account for +90% of the total order amount"
   ]
  },
  {
   "cell_type": "code",
   "execution_count": null,
   "metadata": {},
   "outputs": [],
   "source": [
    "orders_items_df = pd.merge(orders_df, items_df, on=\"item_id\")\n",
    "items_order_freq = orders_items_df.groupby(\"item_id\").sum()[\"requested_quantity\"]\n",
    "sorted_items_order_freq = items_order_freq.sort_values(ascending=False)[:20]"
   ]
  },
  {
   "cell_type": "code",
   "execution_count": null,
   "metadata": {
    "scrolled": true
   },
   "outputs": [],
   "source": [
    "ax = sns.barplot(\n",
    "    x=sorted_items_order_freq.index,\n",
    "    y=sorted_items_order_freq.values,\n",
    "    order=sorted_items_order_freq.sort_values(ascending=False).index,\n",
    ")  # sort areas by order amount\n",
    "\n",
    "ax.set_title(\"Items Ordered Quantity\", fontsize=18)\n",
    "ax.set_xlabel(\"Item ID\", fontsize=15)\n",
    "ax.set_ylabel(\"Quantity\", fontsize=15)\n",
    "plt.show()"
   ]
  },
  {
   "cell_type": "markdown",
   "metadata": {},
   "source": [
    "- The above figure shows the top 20 requested items \n",
    "- This needs more interpetation using the items features "
   ]
  },
  {
   "cell_type": "markdown",
   "metadata": {},
   "source": [
    "#### Items Data"
   ]
  },
  {
   "cell_type": "code",
   "execution_count": null,
   "metadata": {
    "scrolled": true
   },
   "outputs": [],
   "source": [
    "items_df[\"vol\"] = items_df.length.multiply(items_df.width).multiply(items_df.height)\n",
    "items_df[\"vol\"].hist()\n",
    "plt.title(\"Items Volume Histogram\")"
   ]
  },
  {
   "cell_type": "markdown",
   "metadata": {},
   "source": [
    "- The items volume distribution is left skewed, which means most of the items considered to be small sized "
   ]
  },
  {
   "cell_type": "code",
   "execution_count": null,
   "metadata": {
    "scrolled": true
   },
   "outputs": [],
   "source": [
    "pd.merge(sorted_items_order_freq, items_df, on=\"item_id\").drop_duplicates()[\n",
    "    \"vol\"\n",
    "].hist()\n",
    "plt.title(\"Highest Demand Items Volume\")"
   ]
  },
  {
   "cell_type": "markdown",
   "metadata": {},
   "source": [
    "- The Items with the highest Demand, are considered to be small in size as well "
   ]
  },
  {
   "cell_type": "markdown",
   "metadata": {},
   "source": [
    "#### Trucks Data"
   ]
  },
  {
   "cell_type": "markdown",
   "metadata": {},
   "source": [
    "As trucks talbe is non-connected floating table, it won't be insightful to conduct analysis for "
   ]
  },
  {
   "cell_type": "markdown",
   "metadata": {},
   "source": [
    "### Customers Clustering"
   ]
  },
  {
   "cell_type": "code",
   "execution_count": null,
   "metadata": {},
   "outputs": [],
   "source": [
    "customers_df.info()"
   ]
  },
  {
   "cell_type": "code",
   "execution_count": null,
   "metadata": {},
   "outputs": [],
   "source": [
    "# Label encoding\n",
    "le = preprocessing.LabelEncoder()\n",
    "customers_df[\"buyer_business_type_encoded\"] = le.fit_transform(\n",
    "    customers_df[\"buyer_business_type\"]\n",
    ")"
   ]
  },
  {
   "cell_type": "code",
   "execution_count": null,
   "metadata": {},
   "outputs": [],
   "source": [
    "# remove outliers\n",
    "features = [\n",
    "    \"buyer_business_type_encoded\",\n",
    "    \"number_of_transactions\",\n",
    "    \"total_orders_amount\",\n",
    "]\n",
    "customers_df.dropna(subset=features, inplace=True)\n",
    "customers_df = customers_df[\n",
    "    (np.abs(stats.zscore(customers_df[features])) < 3).all(axis=1)\n",
    "]\n",
    "X = customers_df[features]"
   ]
  },
  {
   "cell_type": "code",
   "execution_count": null,
   "metadata": {},
   "outputs": [],
   "source": [
    "# decide k using elbow method\n",
    "wcss = []\n",
    "for i in range(1, 11):\n",
    "    km = KMeans(n_clusters=i)\n",
    "    km.fit(X)\n",
    "    wcss.append(km.inertia_)"
   ]
  },
  {
   "cell_type": "code",
   "execution_count": null,
   "metadata": {},
   "outputs": [],
   "source": [
    "plt.figure(figsize=(12, 6))\n",
    "plt.plot(range(1, 11), wcss)\n",
    "plt.plot(range(1, 11), wcss, linewidth=2, color=\"red\", marker=\"8\")\n",
    "plt.xlabel(\"K Value\")\n",
    "plt.xticks(np.arange(1, 11, 1))\n",
    "plt.ylabel(\"WCSS\")\n",
    "plt.show()"
   ]
  },
  {
   "cell_type": "markdown",
   "metadata": {},
   "source": [
    "- Suitable Number of Clusters is **4**"
   ]
  },
  {
   "cell_type": "code",
   "execution_count": null,
   "metadata": {},
   "outputs": [],
   "source": [
    "# taking 4 clusters\n",
    "km = KMeans(n_clusters=4)\n",
    "km.fit(X)\n",
    "y = km.predict(X)\n",
    "customers_df[\"label\"] = y\n",
    "customers_df.head()"
   ]
  },
  {
   "cell_type": "code",
   "execution_count": null,
   "metadata": {},
   "outputs": [],
   "source": [
    "ax = sns.scatterplot(\n",
    "    x=\"buyer_business_type\",\n",
    "    y=\"total_orders_amount\",\n",
    "    hue=\"label\",\n",
    "    palette=[\"green\", \"orange\", \"brown\", \"dodgerblue\"],\n",
    "    legend=\"full\",\n",
    "    data=customers_df,\n",
    "    s=60,\n",
    ")\n",
    "ax.set_title(\"Busniesses Types and Spending Behavior\", fontsize=18)\n",
    "ax.set_xlabel(\"Business Type\", fontsize=15)\n",
    "ax.set_ylabel(\"Total Order Amount\", fontsize=15)\n",
    "plt.show()"
   ]
  },
  {
   "cell_type": "markdown",
   "metadata": {},
   "source": [
    "- The spending behaviour of 'اخري' clusters is similar to 'كشك' ones\n",
    "- We can presume such assumption and replace the 'اخري' values"
   ]
  },
  {
   "cell_type": "code",
   "execution_count": null,
   "metadata": {},
   "outputs": [],
   "source": [
    "customers_df[\"buyer_business_type\"].replace({\"اخري\": \"كشك\"}, inplace=True)"
   ]
  },
  {
   "cell_type": "markdown",
   "metadata": {},
   "source": [
    "Setting Customer Promotion:\n",
    "I suggest offering discounts relative with the order size (to encourage the customer to move to the next spending layer)\n",
    "- Label 1 => +5000 spendings (10% off)\n",
    "- Label 0 => +10000 spendings (15% off)\n",
    "- Label 3 => +15000 spendings (18% off)\n",
    "- Label 2 => +17000 spendings (20% off)"
   ]
  },
  {
   "cell_type": "code",
   "execution_count": null,
   "metadata": {},
   "outputs": [],
   "source": [
    "promo_dict = {\n",
    "    1: \"+5000 spendings (10% off)\",\n",
    "    0: \"+10000 spendings (15% off)\",\n",
    "    3: \"+15000 spendings (18% off)\",\n",
    "    2: \"+17000 spendings (20% off)\",\n",
    "}\n",
    "\n",
    "promos = []\n",
    "customers_df.rename({\"label\": \"cluster\"}, axis=1, inplace=True)\n",
    "for cluster in customers_df[\"cluster\"]:\n",
    "    promos.append(promo_dict[cluster])\n",
    "customers_df[\"promo\"] = promos"
   ]
  },
  {
   "cell_type": "code",
   "execution_count": null,
   "metadata": {},
   "outputs": [],
   "source": [
    "customers_df.to_csv(f\"{base_dir}customers_clustered.csv\")"
   ]
  }
 ],
 "metadata": {
  "colab": {
   "collapsed_sections": [],
   "name": "capiter.ipynb",
   "provenance": [],
   "toc_visible": true
  },
  "kernelspec": {
   "display_name": "Python 3 (ipykernel)",
   "language": "python",
   "name": "python3"
  },
  "language_info": {
   "codemirror_mode": {
    "name": "ipython",
    "version": 3
   },
   "file_extension": ".py",
   "mimetype": "text/x-python",
   "name": "python",
   "nbconvert_exporter": "python",
   "pygments_lexer": "ipython3",
   "version": "3.9.7"
  }
 },
 "nbformat": 4,
 "nbformat_minor": 1
}
